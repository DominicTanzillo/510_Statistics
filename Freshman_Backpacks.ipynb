{
 "cells": [
  {
   "metadata": {},
   "cell_type": "markdown",
   "source": [
    "# How are freshman backpacks coming off the C1?\n",
    "\n",
    "## Question:\n",
    "Does perceived sex (Male vs Female) predict which shoulder (Left, Right, Both, or Neither) a student uses to carry their backpack when getting off the C1 bus?\n",
    "\n",
    "## Rationale:\n",
    "Observing how students carry backpacks offers a simple behavioral dataset for testing categorical prediction. While trivial on its face, it demonstrates how to structure a behavioral observation into a formal contingency table suitable for hypothesis testing.\n",
    "\n",
    "## Operational Notes:\n",
    "- Students seated on the bus may hold the backpack on their lap rather than wear it.\n",
    "- “Getting off the bus” is the key observation moment—students must reorient or lift the backpack, revealing shoulder choice.\n",
    "- Rain (especially this last week) likely impacted the student choice.\n",
    "- Perceived sex is coded visually (M/F) and may not correspond perfectly to actual sex or gender identity. This should be noted as a limitation."
   ],
   "id": "f5996ec952ad8dda"
  },
  {
   "metadata": {},
   "cell_type": "markdown",
   "source": [
    "## Power Law for Chi-Square's Test for Indepedence\n",
    "\n",
    "The chi-square test of independence is appropriate because:\n",
    "- Both variables (perceived sex and shoulder choice / lack-thereof) are categorical and nominal.\n",
    "- We are testing whether the distribution of shoulder choices differs by sex.\n",
    "- It makes no assumption about ordering or directionality, only association.\n",
    "\n",
    "The power law used here expresses that the noncentrality parameter ($\\lambda$) grows with both effect size ($w$) and sample size ($n$):\n",
    "\n",
    "$$\n",
    "\\lambda = n w^2\n",
    "$$\n",
    "\n",
    "Power increases with $\\lambda$, meaning:\n",
    "- Larger effects (greater $w$) or\n",
    "- Larger samples (greater $n$)\n",
    "make it more likely to detect an association.\n",
    "\n",
    "In practical terms, even a small effect (i.e. $w = 0.1$) requires several hundred observations for 80% power at α = 0.05, while a medium effect (i.e. $w = 0.3$) could be detected with fewer than 150 observations (see below).\n",
    "\n",
    "This defines the observational effort needed before moving to live C1 data collection.\n"
   ],
   "id": "fc590d61e8605e5e"
  },
  {
   "cell_type": "code",
   "id": "initial_id",
   "metadata": {
    "collapsed": true,
    "ExecuteTime": {
     "end_time": "2025-10-29T14:05:56.514857Z",
     "start_time": "2025-10-29T14:05:56.488259Z"
    }
   },
   "source": [
    "import numpy as np\n",
    "from scipy.stats import ncx2, chi2\n",
    "\n",
    "def n_for_power(w, df=3, alpha=0.05, power=0.80):\n",
    "    crit = chi2.ppf(1-alpha, df)\n",
    "    lo, hi = 1, 1_000_000\n",
    "    for _ in range(60):\n",
    "        mid = (lo+hi)//2\n",
    "        nc = mid*(w**2)\n",
    "        p = 1 - ncx2.cdf(crit, df, nc)\n",
    "        if p >= power: hi = mid\n",
    "        else: lo = mid+1\n",
    "    return lo\n",
    "\n",
    "effect_sizes = [0.05, 0.1, 0.15, 0.2, 0.25, 0.3]\n",
    "\n",
    "for w in effect_sizes:\n",
    "    n_needed = n_for_power(w, df=3, alpha=0.05, power=0.8)\n",
    "    print(f\"w = {w},  required n : {n_needed}\")\n"
   ],
   "outputs": [
    {
     "name": "stdout",
     "output_type": "stream",
     "text": [
      "w = 0.05,  required n : 4362\n",
      "w = 0.1,  required n : 1091\n",
      "w = 0.15,  required n : 485\n",
      "w = 0.2,  required n : 273\n",
      "w = 0.25,  required n : 175\n",
      "w = 0.3,  required n : 122\n"
     ]
    }
   ],
   "execution_count": 4
  }
 ],
 "metadata": {
  "kernelspec": {
   "display_name": "Python 3",
   "language": "python",
   "name": "python3"
  },
  "language_info": {
   "codemirror_mode": {
    "name": "ipython",
    "version": 2
   },
   "file_extension": ".py",
   "mimetype": "text/x-python",
   "name": "python",
   "nbconvert_exporter": "python",
   "pygments_lexer": "ipython2",
   "version": "2.7.6"
  }
 },
 "nbformat": 4,
 "nbformat_minor": 5
}
