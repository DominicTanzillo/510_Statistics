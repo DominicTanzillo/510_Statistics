{
 "cells": [
  {
   "metadata": {},
   "cell_type": "markdown",
   "source": [
    "# How are freshman backpacks coming off the C1?\n",
    "\n",
    "## Question:\n",
    "Does perceived sex (Male vs Female) predict which shoulder (Left, Right, Both, or Neither) a student uses to carry their backpack when getting off the C1 bus?\n",
    "\n",
    "## Rationale:\n",
    "Observing how students carry backpacks offers a simple behavioral dataset for testing categorical prediction. While trivial on its face, it demonstrates how to structure a behavioral observation into a formal contingency table suitable for hypothesis testing.\n",
    "\n",
    "## Operational Notes:\n",
    "- Students seated on the bus may hold the backpack on their lap rather than wear it.\n",
    "- “Getting off the bus” is the key observation moment, students must reorient or lift the backpack, revealing shoulder choice.\n",
    "- Rain (especially this last week) likely impacted the student choice.\n",
    "- Perceived sex is coded visually (M/F) and may not correspond perfectly to actual sex or gender identity. This should be noted as a limitation."
   ],
   "id": "f5996ec952ad8dda"
  },
  {
   "metadata": {},
   "cell_type": "markdown",
   "source": [
    "## Power Law for Chi-Square's Test for Indepedence\n",
    "\n",
    "The chi-square test of independence is appropriate because:\n",
    "- Both variables (perceived sex and shoulder choice / lack-thereof) are categorical and nominal.\n",
    "- We are testing whether the distribution of shoulder choices differs by sex.\n",
    "- It makes no assumption about ordering or directionality, only association.\n",
    "\n",
    "The power law used here expresses that the noncentrality parameter ($\\lambda$) grows with both effect size ($w$) and sample size ($n$):\n",
    "\n",
    "$$\n",
    "\\lambda = n w^2\n",
    "$$\n",
    "\n",
    "Power increases with $\\lambda$, meaning:\n",
    "- Larger effects (greater $w$) or\n",
    "- Larger samples (greater $n$)\n",
    "make it more likely to detect an association.\n",
    "\n",
    "In practical terms, even a small effect (i.e. $w = 0.1$) requires several hundred observations for 80% power at α = 0.05, while a medium effect (i.e. $w = 0.3$) could be detected with fewer than 150 observations (see below).\n",
    "\n",
    "This defines the observational effort needed before moving to live C1 data collection.\n"
   ],
   "id": "fc590d61e8605e5e"
  },
  {
   "cell_type": "code",
   "id": "initial_id",
   "metadata": {
    "collapsed": true,
    "ExecuteTime": {
     "end_time": "2025-10-29T14:05:56.514857Z",
     "start_time": "2025-10-29T14:05:56.488259Z"
    }
   },
   "source": [
    "import numpy as np\n",
    "from numpy.ma.core import concatenate\n",
    "from scipy.stats import ncx2, chi2\n",
    "\n",
    "def n_for_power(w, df=3, alpha=0.05, power=0.80):\n",
    "    crit = chi2.ppf(1-alpha, df)\n",
    "    lo, hi = 1, 1_000_000\n",
    "    for _ in range(60):\n",
    "        mid = (lo+hi)//2\n",
    "        nc = mid*(w**2)\n",
    "        p = 1 - ncx2.cdf(crit, df, nc)\n",
    "        if p >= power: hi = mid\n",
    "        else: lo = mid+1\n",
    "    return lo\n",
    "\n",
    "effect_sizes = [0.05, 0.1, 0.15, 0.2, 0.25, 0.3]\n",
    "\n",
    "for w in effect_sizes:\n",
    "    n_needed = n_for_power(w, df=3, alpha=0.05, power=0.8)\n",
    "    print(f\"w = {w},  required n : {n_needed}\")\n"
   ],
   "outputs": [
    {
     "name": "stdout",
     "output_type": "stream",
     "text": [
      "w = 0.05,  required n : 4362\n",
      "w = 0.1,  required n : 1091\n",
      "w = 0.15,  required n : 485\n",
      "w = 0.2,  required n : 273\n",
      "w = 0.25,  required n : 175\n",
      "w = 0.3,  required n : 122\n"
     ]
    }
   ],
   "execution_count": 4
  },
  {
   "metadata": {},
   "cell_type": "markdown",
   "source": [
    "# Data\n",
    "\n",
    "Data Was Collected Via Counting C1 departures. and is located in `data/backpack_counts.xlsx` update when finished\n",
    "\n",
    "It will either be a raw tally or list of  \"Code\" i.e. ml - codes for male left."
   ],
   "id": "bbeb1a474c62dca2"
  },
  {
   "metadata": {
    "ExecuteTime": {
     "end_time": "2025-10-29T20:28:15.703997Z",
     "start_time": "2025-10-29T20:28:15.454097Z"
    }
   },
   "cell_type": "code",
   "source": [
    "import pandas as pd\n",
    "\n",
    "data_dir = \"data\"\n",
    "\n",
    "files = [\"dominic_obs.csv\", \"roshan_obs.csv\"]\n",
    "\n",
    "dfs = []\n",
    "for f in files:\n",
    "    path = data_dir + \"/\" + f\n",
    "    df = pd.read_csv(path, index_col=0)\n",
    "    df.columns = [\"Female\", \"Male\"]\n",
    "    df.index.name = \"Shoulder\"\n",
    "    dfs.append(df)\n",
    "\n",
    "combined = sum(dfs)\n",
    "\n",
    "print(combined)"
   ],
   "id": "17173da7d44aef8c",
   "outputs": [
    {
     "name": "stdout",
     "output_type": "stream",
     "text": [
      "          Female  Male\n",
      "Shoulder              \n",
      "B            218   104\n",
      "L             32    26\n",
      "R             83    60\n",
      "N             28    51\n"
     ]
    }
   ],
   "execution_count": 1
  },
  {
   "metadata": {},
   "cell_type": "markdown",
   "source": [
    "# Stats\n",
    "\n",
    "Chi-Squared on Both"
   ],
   "id": "146e28f932744ffc"
  },
  {
   "metadata": {
    "ExecuteTime": {
     "end_time": "2025-10-29T20:28:25.059641Z",
     "start_time": "2025-10-29T20:28:24.471988Z"
    }
   },
   "cell_type": "code",
   "source": [
    "from scipy.stats import chi2_contingency\n",
    "\n",
    "chi2, p, dof, expected = chi2_contingency(combined)\n",
    "\n",
    "print(\"Chi-Squared Test of Independence\")\n",
    "print(f\"Chi-Squared statistic: {chi2}\")\n",
    "print(f\"Degrees of freedom: {dof}\")\n",
    "print(f\"p-value: {p:}\")"
   ],
   "id": "650a9e3a3c98334d",
   "outputs": [
    {
     "name": "stdout",
     "output_type": "stream",
     "text": [
      "Chi-Squared Test of Independence\n",
      "Chi-Squared statistic: 28.59228010299256\n",
      "Degrees of freedom: 3\n",
      "p-value: 2.727671314471471e-06\n"
     ]
    }
   ],
   "execution_count": 2
  },
  {
   "metadata": {
    "ExecuteTime": {
     "end_time": "2025-10-29T20:28:38.874379Z",
     "start_time": "2025-10-29T20:28:38.868264Z"
    }
   },
   "cell_type": "code",
   "source": [
    "import numpy as np\n",
    "\n",
    "residuals = (combined - expected) / np.sqrt(expected)\n",
    "print(\"Standardized Residuals:\")\n",
    "print(residuals.round(2))"
   ],
   "id": "a1b6e89fd3e402ed",
   "outputs": [
    {
     "name": "stdout",
     "output_type": "stream",
     "text": [
      "Standardized Residuals:\n",
      "          Female  Male\n",
      "Shoulder              \n",
      "B           1.79 -2.19\n",
      "L          -0.47  0.58\n",
      "R          -0.30  0.36\n",
      "N          -2.81  3.45\n"
     ]
    }
   ],
   "execution_count": 4
  },
  {
   "metadata": {},
   "cell_type": "markdown",
   "source": "# What if Left / Right is One Shoulder as a Bucket",
   "id": "ca38530b1fcfb0e0"
  },
  {
   "metadata": {
    "ExecuteTime": {
     "end_time": "2025-10-29T20:33:29.275502Z",
     "start_time": "2025-10-29T20:33:29.263536Z"
    }
   },
   "cell_type": "code",
   "source": [
    "import pandas as pd\n",
    "import numpy as np\n",
    "from scipy.stats import chi2_contingency\n",
    "\n",
    "one_shoulder = (\n",
    "    combined.rename(index={\"L\": \"One\", \"R\": \"One\"})\n",
    "    .groupby(level=0)\n",
    "    .sum()\n",
    ")\n",
    "\n",
    "print(\"One Shoulder Table:\")\n",
    "print(one_shoulder)\n",
    "\n",
    "chi2_o, p_o, dof_o, expected_o = chi2_contingency(one_shoulder)\n",
    "print(\"Chi-Squared Test of Independence\")\n",
    "print(f\"Chi-Squared = {chi2_o}\")\n",
    "print(f\"Degrees of freedom = {dof_o}\")\n",
    "print(f\"p-value = {p_o}\")\n",
    "\n",
    "expected_o = pd.DataFrame(expected_o, index=one_shoulder.index, columns=one_shoulder.columns)\n",
    "residuals = (one_shoulder - expected_o) / np.sqrt(expected_o)\n",
    "print(\"Standardized Residuals:\")\n",
    "print(residuals.round(2))\n"
   ],
   "id": "afdd9e9a13b8e441",
   "outputs": [
    {
     "name": "stdout",
     "output_type": "stream",
     "text": [
      "One Shoulder Table:\n",
      "          Female  Male\n",
      "Shoulder              \n",
      "B            218   104\n",
      "N             28    51\n",
      "One          115    86\n",
      "Chi-Squared Test of Independence\n",
      "Chi-Squared = 28.45074552194501\n",
      "Degrees of freedom = 2\n",
      "p-value = 6.637417054453642e-07\n",
      "Standardized Residuals:\n",
      "          Female  Male\n",
      "Shoulder              \n",
      "B           1.79 -2.19\n",
      "N          -2.81  3.45\n",
      "One        -0.50  0.62\n"
     ]
    }
   ],
   "execution_count": 5
  }
 ],
 "metadata": {
  "kernelspec": {
   "display_name": "Python 3",
   "language": "python",
   "name": "python3"
  },
  "language_info": {
   "codemirror_mode": {
    "name": "ipython",
    "version": 2
   },
   "file_extension": ".py",
   "mimetype": "text/x-python",
   "name": "python",
   "nbconvert_exporter": "python",
   "pygments_lexer": "ipython2",
   "version": "2.7.6"
  }
 },
 "nbformat": 4,
 "nbformat_minor": 5
}
